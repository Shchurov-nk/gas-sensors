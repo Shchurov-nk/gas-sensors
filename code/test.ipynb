{
 "cells": [
  {
   "cell_type": "code",
   "execution_count": 6,
   "id": "2cba4dd0",
   "metadata": {},
   "outputs": [],
   "source": [
    "import pandas as pd\n",
    "from config import interim_data_path"
   ]
  },
  {
   "cell_type": "code",
   "execution_count": 7,
   "id": "6a92b740",
   "metadata": {},
   "outputs": [
    {
     "name": "stdout",
     "output_type": "stream",
     "text": [
      "d:\\gas-sensors\\data\\interim\\R1-trn.feather\n",
      "d:\\gas-sensors\\data\\interim\\R1-vld.feather\n",
      "d:\\gas-sensors\\data\\interim\\R1-tst.feather\n",
      "d:\\gas-sensors\\data\\interim\\R2-trn.feather\n",
      "d:\\gas-sensors\\data\\interim\\R2-vld.feather\n",
      "d:\\gas-sensors\\data\\interim\\R2-tst.feather\n",
      "d:\\gas-sensors\\data\\interim\\R3-trn.feather\n",
      "d:\\gas-sensors\\data\\interim\\R3-vld.feather\n",
      "d:\\gas-sensors\\data\\interim\\R3-tst.feather\n",
      "d:\\gas-sensors\\data\\interim\\R4-trn.feather\n",
      "d:\\gas-sensors\\data\\interim\\R4-vld.feather\n",
      "d:\\gas-sensors\\data\\interim\\R4-tst.feather\n",
      "d:\\gas-sensors\\data\\interim\\R5-trn.feather\n",
      "d:\\gas-sensors\\data\\interim\\R5-vld.feather\n",
      "d:\\gas-sensors\\data\\interim\\R5-tst.feather\n",
      "d:\\gas-sensors\\data\\interim\\R6-trn.feather\n",
      "d:\\gas-sensors\\data\\interim\\R6-vld.feather\n",
      "d:\\gas-sensors\\data\\interim\\R6-tst.feather\n",
      "d:\\gas-sensors\\data\\interim\\R7-trn.feather\n",
      "d:\\gas-sensors\\data\\interim\\R7-vld.feather\n",
      "d:\\gas-sensors\\data\\interim\\R7-tst.feather\n",
      "d:\\gas-sensors\\data\\interim\\R8-trn.feather\n",
      "d:\\gas-sensors\\data\\interim\\R8-vld.feather\n",
      "d:\\gas-sensors\\data\\interim\\R8-tst.feather\n",
      "d:\\gas-sensors\\data\\interim\\R9-trn.feather\n",
      "d:\\gas-sensors\\data\\interim\\R9-vld.feather\n",
      "d:\\gas-sensors\\data\\interim\\R9-tst.feather\n",
      "d:\\gas-sensors\\data\\interim\\R10-trn.feather\n",
      "d:\\gas-sensors\\data\\interim\\R10-vld.feather\n",
      "d:\\gas-sensors\\data\\interim\\R10-tst.feather\n",
      "d:\\gas-sensors\\data\\interim\\R11-trn.feather\n",
      "d:\\gas-sensors\\data\\interim\\R11-vld.feather\n",
      "d:\\gas-sensors\\data\\interim\\R11-tst.feather\n",
      "d:\\gas-sensors\\data\\interim\\R12-trn.feather\n",
      "d:\\gas-sensors\\data\\interim\\R12-vld.feather\n",
      "d:\\gas-sensors\\data\\interim\\R12-tst.feather\n"
     ]
    }
   ],
   "source": [
    "sensors = [f'R{i}' for i in range(1,13)]\n",
    "datasets = ['trn', 'vld', 'tst']\n",
    "\n",
    "for sensor in sensors:\n",
    "    for dataset in datasets:\n",
    "        print(interim_data_path / f'{sensor}-{dataset}.feather')"
   ]
  },
  {
   "cell_type": "code",
   "execution_count": null,
   "id": "6bb4d5e9",
   "metadata": {},
   "outputs": [],
   "source": [
    "pd.read_feather()"
   ]
  }
 ],
 "metadata": {
  "kernelspec": {
   "display_name": "main",
   "language": "python",
   "name": "python3"
  },
  "language_info": {
   "codemirror_mode": {
    "name": "ipython",
    "version": 3
   },
   "file_extension": ".py",
   "mimetype": "text/x-python",
   "name": "python",
   "nbconvert_exporter": "python",
   "pygments_lexer": "ipython3",
   "version": "3.11.11"
  }
 },
 "nbformat": 4,
 "nbformat_minor": 5
}
