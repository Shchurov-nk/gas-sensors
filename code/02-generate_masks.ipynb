{
 "cells": [
  {
   "cell_type": "code",
   "execution_count": 1,
   "metadata": {},
   "outputs": [],
   "source": [
    "import pandas as pd\n",
    "import numpy as np\n",
    "from tqdm import tqdm\n",
    "from config import corr_xx_path, corr_xy_path, masks_path"
   ]
  },
  {
   "cell_type": "code",
   "execution_count": 2,
   "metadata": {},
   "outputs": [],
   "source": [
    "def IFS(corXX, corXY, level_xx, level_xy):\n",
    "    corXY = corXY.copy().values\n",
    "    mask = [False] * len(corXX)\n",
    "    while np.max(corXY) > level_xy:\n",
    "        i_bestXY = np.argmax(corXY)\n",
    "        # print(\"Лучший:\", i_bestXY, \"\\nПохожие:\")\n",
    "        mask[i_bestXY] = True\n",
    "        corXY[i_bestXY] = 0\n",
    "        for i in range(corXX.shape[0]):\n",
    "            if mask[i] == False:\n",
    "                if corXY[i]>0:\n",
    "                    if corXX.iloc[i_bestXY, i]>level_xx:\n",
    "                        corXY[i] = 0\n",
    "                        # print(i)\n",
    "    return mask"
   ]
  },
  {
   "cell_type": "code",
   "execution_count": 3,
   "metadata": {},
   "outputs": [],
   "source": [
    "level_xx = 0.995\n",
    "level_xy = 0.0"
   ]
  },
  {
   "cell_type": "code",
   "execution_count": 6,
   "metadata": {},
   "outputs": [
    {
     "name": "stderr",
     "output_type": "stream",
     "text": [
      "100%|██████████| 12/12 [00:26<00:00,  2.25s/it]\n"
     ]
    }
   ],
   "source": [
    "masks_path.mkdir(parents=True, exist_ok=True)\n",
    "corr_paths = list(zip(list(corr_xx_path.glob('*R*.feather')), list(corr_xy_path.glob('*R*.feather'))))\n",
    "for xx_file, xy_file in tqdm(corr_paths):\n",
    "    corr_xx = pd.read_feather(xx_file)\n",
    "    corr_xy = pd.read_feather(xy_file)\n",
    "    sensor_name = xx_file.name.removeprefix('corr_XX-')\n",
    "    elem_names = [i for i in corr_xy.columns]\n",
    "    masks = []\n",
    "    for element in elem_names:\n",
    "        ifs_result = IFS(corr_xx, corr_xy[element], level_xx, level_xy)\n",
    "        # print(sensor_name, element, sum(ifs_result))\n",
    "        masks.append(ifs_result)\n",
    "    result_df = pd.DataFrame(masks, index=elem_names, columns=corr_xx.columns).T\n",
    "    result_df.to_feather(masks_path / sensor_name)"
   ]
  },
  {
   "cell_type": "code",
   "execution_count": 5,
   "metadata": {},
   "outputs": [],
   "source": [
    "# num_features = [np.sum(IFS(corr_xx, corr_xy['NO_conc'], i/10000, 0.0)) for i in range(9500,9999,10)]\n",
    "# import matplotlib.pyplot as plt\n",
    "# plt.plot(num_features)\n",
    "# num_features[44]\n",
    "# result = list(zip(num_features, [i/10000 for i in range(9500,9999,10)]))\n",
    "# result[45]"
   ]
  }
 ],
 "metadata": {
  "kernelspec": {
   "display_name": "main",
   "language": "python",
   "name": "python3"
  },
  "language_info": {
   "codemirror_mode": {
    "name": "ipython",
    "version": 3
   },
   "file_extension": ".py",
   "mimetype": "text/x-python",
   "name": "python",
   "nbconvert_exporter": "python",
   "pygments_lexer": "ipython3",
   "version": "3.11.11"
  }
 },
 "nbformat": 4,
 "nbformat_minor": 2
}
